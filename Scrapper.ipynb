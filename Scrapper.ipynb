{
 "cells": [
  {
   "cell_type": "markdown",
   "metadata": {},
   "source": [
    "# Modules"
   ]
  },
  {
   "cell_type": "code",
   "execution_count": 142,
   "metadata": {
    "collapsed": true
   },
   "outputs": [],
   "source": [
    "import pandas as pd\n",
    "import numpy as np\n",
    "import requests\n",
    "from bs4 import BeautifulSoup\n",
    "import time\n",
    "import random as rnd\n",
    "from tqdm import trange"
   ]
  },
  {
   "cell_type": "markdown",
   "metadata": {},
   "source": [
    "# Functions"
   ]
  },
  {
   "cell_type": "code",
   "execution_count": 182,
   "metadata": {
    "collapsed": true
   },
   "outputs": [],
   "source": [
    "def Ebert_Reviews(num_pages=1):\n",
    "    main_url = 'https://www.rogerebert.com'\n",
    "    contr = '/contributors/roger-ebert/reviews/page/'\n",
    "    movie_list = list()\n",
    "    \n",
    "    def Scrape_Review(href):\n",
    "        rev_page = requests.get(main_url + href).text\n",
    "        soup = BeautifulSoup(rev_page, 'html.parser')\n",
    "        review = soup.find('div', {'itemprop': 'reviewBody'}).find_all('p')\n",
    "        text = ' '.join(par.text for par in review if par.text != 'Advertisement').encode('utf-8').strip()\n",
    "        # a few movies do not have rating\n",
    "        try:\n",
    "            rating = float(soup.find('meta', {'itemprop': 'ratingValue'}).get('content'))\n",
    "        except:\n",
    "            rating = np.nan\n",
    "        return rating, text\n",
    "\n",
    "    for i in trange(0,num_pages):\n",
    "        contr_page = requests.get(main_url + contr + str(i+1)).text\n",
    "        soup = BeautifulSoup(contr_page, 'html.parser')\n",
    "        movies = soup('figure', {'class', 'movie review'})\n",
    "        \n",
    "        for movie in movies:\n",
    "            time.sleep(rnd.random()) # be gentle and wait...\n",
    "            title = movie.find_all('a')[1].text.encode('utf-8').strip()\n",
    "            try: \n",
    "                year = int(movie.find('span', {'class':'release-year'}).text[1:-1])\n",
    "            except:\n",
    "                year = np.nan\n",
    "                \n",
    "            href = movie.a.get('href')\n",
    "            rating, text = Scrape_Review(href)\n",
    "                \n",
    "            movie_list.append([title, year, href, rating, text])\n",
    "        \n",
    "    df = pd.DataFrame(movie_list, columns = ['title', 'year', 'url', 'rating', 'review'])\n",
    "    return df "
   ]
  },
  {
   "cell_type": "code",
   "execution_count": 183,
   "metadata": {},
   "outputs": [
    {
     "name": "stderr",
     "output_type": "stream",
     "text": [
      "100%|██████████| 1/1 [00:16<00:00, 16.60s/it]\n"
     ]
    }
   ],
   "source": [
    "dataframe = Ebert_Reviews(319)\n",
    "#dataframe.to_csv('Ebert.csv', index = False)"
   ]
  },
  {
   "cell_type": "code",
   "execution_count": 185,
   "metadata": {},
   "outputs": [
    {
     "data": {
      "text/html": [
       "<div>\n",
       "<style>\n",
       "    .dataframe thead tr:only-child th {\n",
       "        text-align: right;\n",
       "    }\n",
       "\n",
       "    .dataframe thead th {\n",
       "        text-align: left;\n",
       "    }\n",
       "\n",
       "    .dataframe tbody tr th {\n",
       "        vertical-align: top;\n",
       "    }\n",
       "</style>\n",
       "<table border=\"1\" class=\"dataframe\">\n",
       "  <thead>\n",
       "    <tr style=\"text-align: right;\">\n",
       "      <th></th>\n",
       "      <th>title</th>\n",
       "      <th>year</th>\n",
       "      <th>url</th>\n",
       "      <th>rating</th>\n",
       "      <th>review</th>\n",
       "    </tr>\n",
       "  </thead>\n",
       "  <tbody>\n",
       "    <tr>\n",
       "      <th>0</th>\n",
       "      <td>The Spectacular Now</td>\n",
       "      <td>2013</td>\n",
       "      <td>/reviews/the-spectacular-now-2013</td>\n",
       "      <td>4.0</td>\n",
       "      <td>[Editor's note: Roger Ebert filed this review ...</td>\n",
       "    </tr>\n",
       "    <tr>\n",
       "      <th>1</th>\n",
       "      <td>Computer Chess</td>\n",
       "      <td>2013</td>\n",
       "      <td>/reviews/computer-chess-2013</td>\n",
       "      <td>2.0</td>\n",
       "      <td>[Editor's note: Roger Ebert filed this review ...</td>\n",
       "    </tr>\n",
       "    <tr>\n",
       "      <th>2</th>\n",
       "      <td>At Any Price</td>\n",
       "      <td>2012</td>\n",
       "      <td>/reviews/at-any-price-2012</td>\n",
       "      <td>4.0</td>\n",
       "      <td>Ramin Bahrani, the best new American director ...</td>\n",
       "    </tr>\n",
       "    <tr>\n",
       "      <th>3</th>\n",
       "      <td>Blancanieves</td>\n",
       "      <td>2012</td>\n",
       "      <td>/reviews/blancanieves-2012</td>\n",
       "      <td>4.0</td>\n",
       "      <td>Note: The following was reworked from a blog p...</td>\n",
       "    </tr>\n",
       "    <tr>\n",
       "      <th>4</th>\n",
       "      <td>Deceptive Practice: The Mysteries and Mentors ...</td>\n",
       "      <td>2013</td>\n",
       "      <td>/reviews/deceptive-practice-the-mysteries-and-...</td>\n",
       "      <td>3.0</td>\n",
       "      <td>This is another of Roger Ebert's final reviews...</td>\n",
       "    </tr>\n",
       "  </tbody>\n",
       "</table>\n",
       "</div>"
      ],
      "text/plain": [
       "                                               title  year  \\\n",
       "0                                The Spectacular Now  2013   \n",
       "1                                     Computer Chess  2013   \n",
       "2                                       At Any Price  2012   \n",
       "3                                       Blancanieves  2012   \n",
       "4  Deceptive Practice: The Mysteries and Mentors ...  2013   \n",
       "\n",
       "                                                 url  rating  \\\n",
       "0                  /reviews/the-spectacular-now-2013     4.0   \n",
       "1                       /reviews/computer-chess-2013     2.0   \n",
       "2                         /reviews/at-any-price-2012     4.0   \n",
       "3                         /reviews/blancanieves-2012     4.0   \n",
       "4  /reviews/deceptive-practice-the-mysteries-and-...     3.0   \n",
       "\n",
       "                                              review  \n",
       "0  [Editor's note: Roger Ebert filed this review ...  \n",
       "1  [Editor's note: Roger Ebert filed this review ...  \n",
       "2  Ramin Bahrani, the best new American director ...  \n",
       "3  Note: The following was reworked from a blog p...  \n",
       "4  This is another of Roger Ebert's final reviews...  "
      ]
     },
     "execution_count": 185,
     "metadata": {},
     "output_type": "execute_result"
    }
   ],
   "source": [
    "dataframe.head()"
   ]
  }
 ],
 "metadata": {
  "kernelspec": {
   "display_name": "Python 2",
   "language": "python",
   "name": "python2"
  },
  "language_info": {
   "codemirror_mode": {
    "name": "ipython",
    "version": 2
   },
   "file_extension": ".py",
   "mimetype": "text/x-python",
   "name": "python",
   "nbconvert_exporter": "python",
   "pygments_lexer": "ipython2",
   "version": "2.7.13"
  }
 },
 "nbformat": 4,
 "nbformat_minor": 2
}
